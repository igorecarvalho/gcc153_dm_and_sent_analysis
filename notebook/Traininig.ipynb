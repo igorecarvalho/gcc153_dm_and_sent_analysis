{
 "cells": [
  {
   "cell_type": "code",
   "execution_count": 1,
   "metadata": {},
   "outputs": [
    {
     "name": "stderr",
     "output_type": "stream",
     "text": [
      "/usr/lib/python3.7/site-packages/sklearn/feature_extraction/text.py:17: DeprecationWarning: Using or importing the ABCs from 'collections' instead of from 'collections.abc' is deprecated, and in 3.8 it will stop working\n",
      "  from collections import Mapping, defaultdict\n"
     ]
    }
   ],
   "source": [
    "from nltk import word_tokenize\n",
    "import nltk\n",
    "import re\n",
    "import pandas as pd"
   ]
  },
  {
   "cell_type": "markdown",
   "metadata": {},
   "source": [
    "# OBTENÇÃO DOS DADOS"
   ]
  },
  {
   "cell_type": "code",
   "execution_count": 108,
   "metadata": {},
   "outputs": [
    {
     "data": {
      "text/html": [
       "<div>\n",
       "<style scoped>\n",
       "    .dataframe tbody tr th:only-of-type {\n",
       "        vertical-align: middle;\n",
       "    }\n",
       "\n",
       "    .dataframe tbody tr th {\n",
       "        vertical-align: top;\n",
       "    }\n",
       "\n",
       "    .dataframe thead th {\n",
       "        text-align: right;\n",
       "    }\n",
       "</style>\n",
       "<table border=\"1\" class=\"dataframe\">\n",
       "  <thead>\n",
       "    <tr style=\"text-align: right;\">\n",
       "      <th></th>\n",
       "      <th>Text</th>\n",
       "      <th>Classificacao</th>\n",
       "    </tr>\n",
       "  </thead>\n",
       "  <tbody>\n",
       "    <tr>\n",
       "      <th>0</th>\n",
       "      <td>���⛪ @ Catedral de Santo Antônio - Governador ...</td>\n",
       "      <td>Neutro</td>\n",
       "    </tr>\n",
       "    <tr>\n",
       "      <th>1</th>\n",
       "      <td>� @ Governador Valadares, Minas Gerais https:/...</td>\n",
       "      <td>Neutro</td>\n",
       "    </tr>\n",
       "    <tr>\n",
       "      <th>2</th>\n",
       "      <td>�� @ Governador Valadares, Minas Gerais https:...</td>\n",
       "      <td>Neutro</td>\n",
       "    </tr>\n",
       "    <tr>\n",
       "      <th>3</th>\n",
       "      <td>��� https://t.co/BnDsO34qK0</td>\n",
       "      <td>Neutro</td>\n",
       "    </tr>\n",
       "    <tr>\n",
       "      <th>4</th>\n",
       "      <td>��� PSOL vai questionar aumento de vereadores ...</td>\n",
       "      <td>Negativo</td>\n",
       "    </tr>\n",
       "  </tbody>\n",
       "</table>\n",
       "</div>"
      ],
      "text/plain": [
       "                                                Text Classificacao\n",
       "0  ���⛪ @ Catedral de Santo Antônio - Governador ...        Neutro\n",
       "1  � @ Governador Valadares, Minas Gerais https:/...        Neutro\n",
       "2  �� @ Governador Valadares, Minas Gerais https:...        Neutro\n",
       "3                        ��� https://t.co/BnDsO34qK0        Neutro\n",
       "4  ��� PSOL vai questionar aumento de vereadores ...      Negativo"
      ]
     },
     "execution_count": 108,
     "metadata": {},
     "output_type": "execute_result"
    }
   ],
   "source": [
    "dataset = pd.read_csv('../data/.csv', encoding='UTF-8')\n",
    "del dataset['Geo Coordinates.latitude']\n",
    "del dataset['Geo Coordinates.longitude']\n",
    "del dataset['Created At']\n",
    "del dataset['Unnamed: 0']\n",
    "del dataset['User Location']\n",
    "del dataset['User Screen Name']\n",
    "del dataset['Username']\n",
    "del dataset['Retweet Count']\n",
    "del dataset['Observação']\n",
    "del dataset['Unnamed: 10']\n",
    "del dataset['Unnamed: 11']\n",
    "del dataset['Unnamed: 12']\n",
    "del dataset['Unnamed: 13']\n",
    "del dataset['Unnamed: 14']\n",
    "del dataset['Unnamed: 15']\n",
    "del dataset['Unnamed: 16']\n",
    "del dataset['Unnamed: 17']\n",
    "del dataset['Unnamed: 18']\n",
    "del dataset['Unnamed: 19']\n",
    "del dataset['Unnamed: 20']\n",
    "del dataset['Unnamed: 21']\n",
    "del dataset['Unnamed: 22']\n",
    "del dataset['Unnamed: 23']\n",
    "del dataset['Unnamed: 24']\n",
    "dataset[:5]"
   ]
  },
  {
   "cell_type": "code",
   "execution_count": 3,
   "metadata": {},
   "outputs": [
    {
     "data": {
      "text/html": [
       "<div>\n",
       "<style scoped>\n",
       "    .dataframe tbody tr th:only-of-type {\n",
       "        vertical-align: middle;\n",
       "    }\n",
       "\n",
       "    .dataframe tbody tr th {\n",
       "        vertical-align: top;\n",
       "    }\n",
       "\n",
       "    .dataframe thead th {\n",
       "        text-align: right;\n",
       "    }\n",
       "</style>\n",
       "<table border=\"1\" class=\"dataframe\">\n",
       "  <thead>\n",
       "    <tr style=\"text-align: right;\">\n",
       "      <th></th>\n",
       "      <th>date</th>\n",
       "      <th>news</th>\n",
       "      <th>polarity_new</th>\n",
       "      <th>news_keywords</th>\n",
       "      <th>tweets</th>\n",
       "      <th>normalized_tweets</th>\n",
       "      <th>polarity_tweets</th>\n",
       "    </tr>\n",
       "  </thead>\n",
       "  <tbody>\n",
       "    <tr>\n",
       "      <th>0</th>\n",
       "      <td>2019-10-01</td>\n",
       "      <td>[[PF emite certidão à Justiça para dizer que L...</td>\n",
       "      <td>None</td>\n",
       "      <td>(lava, jato)</td>\n",
       "      <td>1399    Lava Jato cobra multa de R$ 5 milhões ...</td>\n",
       "      <td>1399    [lava, jato, cobra, multa, de, r, 5, m...</td>\n",
       "      <td>None</td>\n",
       "    </tr>\n",
       "    <tr>\n",
       "      <th>1</th>\n",
       "      <td>2019-10-02</td>\n",
       "      <td>[[Para Maia, derrota em abono não significa pe...</td>\n",
       "      <td>None</td>\n",
       "      <td>(reforma, previdência)</td>\n",
       "      <td>1398    Economia com reforma da Previdência de...</td>\n",
       "      <td>1398    [economia, com, reforma, da, previdênc...</td>\n",
       "      <td>None</td>\n",
       "    </tr>\n",
       "    <tr>\n",
       "      <th>2</th>\n",
       "      <td>2019-10-03</td>\n",
       "      <td>[[Flávia Boggio | Acho impossível esconder a i...</td>\n",
       "      <td>None</td>\n",
       "      <td>(pacote, anticrime)</td>\n",
       "      <td>1399    Governo Federal lança campanha publici...</td>\n",
       "      <td>1399    [governo, federal, lança, campanha, pu...</td>\n",
       "      <td>None</td>\n",
       "    </tr>\n",
       "    <tr>\n",
       "      <th>3</th>\n",
       "      <td>2019-10-04</td>\n",
       "      <td>[[Camargo processa ex-executivo por desvio mil...</td>\n",
       "      <td>None</td>\n",
       "      <td>(lava, jato)</td>\n",
       "      <td>1399    # BRASIL: Los fiscales justicieros del...</td>\n",
       "      <td>1399    [brasil, los, fiscales, justicieros, d...</td>\n",
       "      <td>None</td>\n",
       "    </tr>\n",
       "    <tr>\n",
       "      <th>4</th>\n",
       "      <td>2019-10-05</td>\n",
       "      <td>[[Desde janeiro, o jornal tem uma editoria de ...</td>\n",
       "      <td>None</td>\n",
       "      <td>(conselhos, tutelares)</td>\n",
       "      <td>1399    Invasão da Universal ameaça aparelhar ...</td>\n",
       "      <td>1399    [invasão, da, universal, ameaça, apare...</td>\n",
       "      <td>None</td>\n",
       "    </tr>\n",
       "  </tbody>\n",
       "</table>\n",
       "</div>"
      ],
      "text/plain": [
       "         date                                               news polarity_new  \\\n",
       "0  2019-10-01  [[PF emite certidão à Justiça para dizer que L...         None   \n",
       "1  2019-10-02  [[Para Maia, derrota em abono não significa pe...         None   \n",
       "2  2019-10-03  [[Flávia Boggio | Acho impossível esconder a i...         None   \n",
       "3  2019-10-04  [[Camargo processa ex-executivo por desvio mil...         None   \n",
       "4  2019-10-05  [[Desde janeiro, o jornal tem uma editoria de ...         None   \n",
       "\n",
       "            news_keywords                                             tweets  \\\n",
       "0            (lava, jato)  1399    Lava Jato cobra multa de R$ 5 milhões ...   \n",
       "1  (reforma, previdência)  1398    Economia com reforma da Previdência de...   \n",
       "2     (pacote, anticrime)  1399    Governo Federal lança campanha publici...   \n",
       "3            (lava, jato)  1399    # BRASIL: Los fiscales justicieros del...   \n",
       "4  (conselhos, tutelares)  1399    Invasão da Universal ameaça aparelhar ...   \n",
       "\n",
       "                                   normalized_tweets polarity_tweets  \n",
       "0  1399    [lava, jato, cobra, multa, de, r, 5, m...            None  \n",
       "1  1398    [economia, com, reforma, da, previdênc...            None  \n",
       "2  1399    [governo, federal, lança, campanha, pu...            None  \n",
       "3  1399    [brasil, los, fiscales, justicieros, d...            None  \n",
       "4  1399    [invasão, da, universal, ameaça, apare...            None  "
      ]
     },
     "execution_count": 3,
     "metadata": {},
     "output_type": "execute_result"
    }
   ],
   "source": [
    "depurate_tweets = pd.read_pickle('../data/depurate_tweets.pkl')\n",
    "depurate_tweets[:5]"
   ]
  },
  {
   "cell_type": "code",
   "execution_count": 4,
   "metadata": {},
   "outputs": [],
   "source": [
    "dataset.drop_duplicates(['Text'], inplace=True)\n",
    "tweets = dataset['Text']\n",
    "classes = dataset['Classificacao']"
   ]
  },
  {
   "cell_type": "code",
   "execution_count": 5,
   "metadata": {},
   "outputs": [
    {
     "data": {
      "text/plain": [
       "<matplotlib.axes._subplots.AxesSubplot at 0x7f0cccb223d0>"
      ]
     },
     "execution_count": 5,
     "metadata": {},
     "output_type": "execute_result"
    },
    {
     "data": {
      "image/png": "[encoded data removed]",
      "text/plain": [
       "<Figure size 432x288 with 1 Axes>"
      ]
     },
     "metadata": {
      "needs_background": "light"
     },
     "output_type": "display_data"
    }
   ],
   "source": [
    "%matplotlib inline\n",
    "dataset.Classificacao.value_counts().plot(kind='bar')"
   ]
  },
  {
   "cell_type": "markdown",
   "metadata": {},
   "source": [
    "# PREPROCESSAMENTO DOS TWEETS CLASSIFICADOS"
   ]
  },
  {
   "cell_type": "code",
   "execution_count": 6,
   "metadata": {},
   "outputs": [
    {
     "name": "stdout",
     "output_type": "stream",
     "text": [
      "[nltk_data] Downloading package stopwords to\n",
      "[nltk_data]     /home/igorecarvalho/nltk_data...\n",
      "[nltk_data]   Package stopwords is already up-to-date!\n",
      "[nltk_data] Downloading package rslp to\n",
      "[nltk_data]     /home/igorecarvalho/nltk_data...\n",
      "[nltk_data]   Package rslp is already up-to-date!\n"
     ]
    },
    {
     "data": {
      "text/plain": [
       "True"
      ]
     },
     "execution_count": 6,
     "metadata": {},
     "output_type": "execute_result"
    }
   ],
   "source": [
    "import nltk\n",
    "nltk.download('stopwords')\n",
    "nltk.download('rslp')"
   ]
  },
  {
   "cell_type": "code",
   "execution_count": 7,
   "metadata": {},
   "outputs": [],
   "source": [
    "def Preprocessing(instancia):\n",
    "    stemmer = nltk.stem.RSLPStemmer()\n",
    "    instancia = re.sub(r\"http\\S+\", \"\", instancia).lower().replace('.','').replace(';','').replace('-','').replace(':','').replace(')','')\n",
    "    stopwords = set(nltk.corpus.stopwords.words('portuguese'))\n",
    "    palavras = [stemmer.stem(i) for i in instancia.split() if not i in stopwords]\n",
    "    return (\" \".join(palavras))\n",
    "\n",
    "# Aplica a função em todos os dados:\n",
    "tweets = [Preprocessing(i) for i in tweets]"
   ]
  },
  {
   "cell_type": "markdown",
   "metadata": {},
   "source": [
    "# TREINANDO O MODELO"
   ]
  },
  {
   "cell_type": "code",
   "execution_count": 8,
   "metadata": {},
   "outputs": [],
   "source": [
    "from sklearn.feature_extraction.text import CountVectorizer\n",
    "from sklearn.naive_bayes import MultinomialNB\n",
    "from sklearn import metrics\n",
    "from sklearn.model_selection import cross_val_predict"
   ]
  },
  {
   "cell_type": "code",
   "execution_count": 9,
   "metadata": {},
   "outputs": [
    {
     "data": {
      "text/plain": [
       "MultinomialNB(alpha=1.0, class_prior=None, fit_prior=True)"
      ]
     },
     "execution_count": 9,
     "metadata": {},
     "output_type": "execute_result"
    }
   ],
   "source": [
    "vectorizer = CountVectorizer(analyzer=\"word\")\n",
    "freq_tweets = vectorizer.fit_transform(tweets)\n",
    "modelo = MultinomialNB()\n",
    "modelo.fit(freq_tweets,classes)"
   ]
  },
  {
   "cell_type": "code",
   "execution_count": null,
   "metadata": {},
   "outputs": [],
   "source": []
  },
  {
   "cell_type": "code",
   "execution_count": 10,
   "metadata": {},
   "outputs": [],
   "source": [
    "from sklearn.pipeline import Pipeline\n",
    "pipeline_simples = Pipeline([\n",
    "  ('counts', CountVectorizer()),\n",
    "  ('classifier', MultinomialNB())\n",
    "])"
   ]
  },
  {
   "cell_type": "code",
   "execution_count": 11,
   "metadata": {},
   "outputs": [
    {
     "data": {
      "text/plain": [
       "[('counts',\n",
       "  CountVectorizer(analyzer='word', binary=False, decode_error='strict',\n",
       "          dtype=<class 'numpy.int64'>, encoding='utf-8', input='content',\n",
       "          lowercase=True, max_df=1.0, max_features=None, min_df=1,\n",
       "          ngram_range=(1, 1), preprocessor=None, stop_words=None,\n",
       "          strip_accents=None, token_pattern='(?u)\\\\b\\\\w\\\\w+\\\\b',\n",
       "          tokenizer=None, vocabulary=None)),\n",
       " ('classifier', MultinomialNB(alpha=1.0, class_prior=None, fit_prior=True))]"
      ]
     },
     "execution_count": 11,
     "metadata": {},
     "output_type": "execute_result"
    }
   ],
   "source": [
    "pipeline_simples.fit(tweets,classes)\n",
    "pipeline_simples.steps"
   ]
  },
  {
   "cell_type": "markdown",
   "metadata": {},
   "source": [
    "# VALIDAÇÃO"
   ]
  },
  {
   "cell_type": "code",
   "execution_count": 12,
   "metadata": {},
   "outputs": [
    {
     "data": {
      "text/plain": [
       "0.8631396357328708"
      ]
     },
     "execution_count": 12,
     "metadata": {},
     "output_type": "execute_result"
    }
   ],
   "source": [
    "resultados = cross_val_predict(pipeline_simples, tweets, classes, cv=10)\n",
    "metrics.accuracy_score(classes,resultados)"
   ]
  },
  {
   "cell_type": "code",
   "execution_count": 13,
   "metadata": {},
   "outputs": [
    {
     "name": "stdout",
     "output_type": "stream",
     "text": [
      "             precision    recall  f1-score   support\n",
      "\n",
      "   Positivo       0.96      0.86      0.91      2840\n",
      "   Negativo       0.77      0.90      0.83       951\n",
      "     Neutro       0.80      0.85      0.82      1974\n",
      "\n",
      "avg / total       0.87      0.86      0.87      5765\n",
      "\n",
      "Predito   Negativo  Neutro  Positivo   All\n",
      "Real                                      \n",
      "Negativo       852      91         8   951\n",
      "Neutro         196    1674       104  1974\n",
      "Positivo        64     326      2450  2840\n",
      "All           1112    2091      2562  5765\n"
     ]
    }
   ],
   "source": [
    "sentimento=['Positivo','Negativo','Neutro']\n",
    "print (metrics.classification_report(classes,resultados,sentimento))\n",
    "print (pd.crosstab(classes, resultados, rownames=['Real'], colnames=['Predito'], margins=True))"
   ]
  },
  {
   "cell_type": "markdown",
   "metadata": {},
   "source": [
    "# USANDO O MODELO TREINADO"
   ]
  },
  {
   "cell_type": "code",
   "execution_count": 109,
   "metadata": {},
   "outputs": [
    {
     "data": {
      "text/html": [
       "<div>\n",
       "<style scoped>\n",
       "    .dataframe tbody tr th:only-of-type {\n",
       "        vertical-align: middle;\n",
       "    }\n",
       "\n",
       "    .dataframe tbody tr th {\n",
       "        vertical-align: top;\n",
       "    }\n",
       "\n",
       "    .dataframe thead th {\n",
       "        text-align: right;\n",
       "    }\n",
       "</style>\n",
       "<table border=\"1\" class=\"dataframe\">\n",
       "  <thead>\n",
       "    <tr style=\"text-align: right;\">\n",
       "      <th></th>\n",
       "      <th>0</th>\n",
       "    </tr>\n",
       "  </thead>\n",
       "  <tbody>\n",
       "    <tr>\n",
       "      <th>count</th>\n",
       "      <td>31</td>\n",
       "    </tr>\n",
       "    <tr>\n",
       "      <th>unique</th>\n",
       "      <td>2</td>\n",
       "    </tr>\n",
       "    <tr>\n",
       "      <th>top</th>\n",
       "      <td>Neutro</td>\n",
       "    </tr>\n",
       "    <tr>\n",
       "      <th>freq</th>\n",
       "      <td>28</td>\n",
       "    </tr>\n",
       "  </tbody>\n",
       "</table>\n",
       "</div>"
      ],
      "text/plain": [
       "             0\n",
       "count       31\n",
       "unique       2\n",
       "top     Neutro\n",
       "freq        28"
      ]
     },
     "execution_count": 109,
     "metadata": {},
     "output_type": "execute_result"
    }
   ],
   "source": [
    "import itertools\n",
    "#testes = list(itertools.chain.from_iterable(depurate_tweets['news'][13]))\n",
    "testes = depurate_tweets['tweets'][27]\n",
    "testes = [Preprocessing(i) for i in testes]\n",
    "# Transforma os dados de teste em vetores de palavras.\n",
    "freq_testes = vectorizer.transform(testes)\n",
    "# Fazendo a classificação com o modelo treinado.\n",
    "pd.DataFrame(modelo.predict(freq_testes)).describe()"
   ]
  },
  {
   "cell_type": "code",
   "execution_count": 110,
   "metadata": {},
   "outputs": [
    {
     "name": "stdout",
     "output_type": "stream",
     "text": [
      "['Negativo' 'Neutro' 'Positivo']\n"
     ]
    },
    {
     "data": {
      "text/plain": [
       "array([[0.  , 1.  , 0.  ],\n",
       "       [0.01, 0.22, 0.77],\n",
       "       [0.  , 1.  , 0.  ],\n",
       "       [0.  , 1.  , 0.  ],\n",
       "       [0.  , 1.  , 0.  ],\n",
       "       [0.  , 1.  , 0.  ],\n",
       "       [0.  , 1.  , 0.  ],\n",
       "       [0.01, 0.77, 0.23],\n",
       "       [0.  , 1.  , 0.  ],\n",
       "       [0.  , 1.  , 0.  ],\n",
       "       [0.  , 0.97, 0.03],\n",
       "       [0.  , 0.99, 0.01],\n",
       "       [0.  , 0.99, 0.01],\n",
       "       [0.  , 1.  , 0.  ],\n",
       "       [0.  , 0.97, 0.03],\n",
       "       [0.  , 1.  , 0.  ],\n",
       "       [0.  , 0.37, 0.63],\n",
       "       [0.  , 0.99, 0.  ],\n",
       "       [0.  , 1.  , 0.  ],\n",
       "       [0.  , 1.  , 0.  ],\n",
       "       [0.  , 1.  , 0.  ],\n",
       "       [0.02, 0.97, 0.  ],\n",
       "       [0.  , 1.  , 0.  ],\n",
       "       [0.  , 0.99, 0.01],\n",
       "       [0.  , 0.78, 0.22],\n",
       "       [0.  , 1.  , 0.  ],\n",
       "       [0.  , 1.  , 0.  ],\n",
       "       [0.  , 1.  , 0.  ],\n",
       "       [0.  , 0.28, 0.72],\n",
       "       [0.  , 1.  , 0.  ],\n",
       "       [0.  , 0.79, 0.2 ]])"
      ]
     },
     "execution_count": 110,
     "metadata": {},
     "output_type": "execute_result"
    }
   ],
   "source": [
    "# Probabilidades de cada classe\n",
    "print (modelo.classes_)\n",
    "modelo.predict_proba(freq_testes).round(2)"
   ]
  },
  {
   "cell_type": "code",
   "execution_count": 113,
   "metadata": {},
   "outputs": [
    {
     "data": {
      "text/plain": [
       "(1266    Gratuitas, estão abertas as inscrições para o ...\n",
       " 1237    Museu do Amanhã abre inscrições gratuitas para...\n",
       " 1232    || LAST CALL || 30/10 || 16h30 - 18h30 Seminár...\n",
       " 1190    Evento acontece em São Paulo em 13 de novembro...\n",
       " 645     Prova será no dia 3 de novembro (domingo), na ...\n",
       " 639     Atenção empreendedores! Hoje é o último dia de...\n",
       " 589     Na Feira de Profissões Senac PR, você vai enco...\n",
       " 574     É amanhã! Inscreva-se no webinar \"Casa segura:...\n",
       " 508     As inscrições gratuitas da segunda turma do pr...\n",
       " 481     Vem aí o primeiro evento exclusivo sobre decis...\n",
       " 463     Hospital Central do Exército oferece Curso Ava...\n",
       " 456     Nossa Semana de Ciência e Tecnologia continua....\n",
       " 455     O paulista Leonardo Camargo de Souza, ouro na ...\n",
       " 400     Atenção Formoso do Araguaia TO Amanhã dia 29/1...\n",
       " 385     QUINTA-FEIRA (31/10) - Fieg promove em Goiânia...\n",
       " 358     É NESTA QUINTA (31), a partir das 18h30! CAA/R...\n",
       " 354     O supervisor de Fiscalização da Mineração do C...\n",
       " 314     As inscrições gratuitas estão abertas até o di...\n",
       " 300     EJA do Sesc Amazonas abre inscrições para 77 v...\n",
       " 263     EJA do Sesc Amazonas abre inscrições para 77 v...\n",
       " 237     Nova chance: Até o dia 23/11 estão abertas as ...\n",
       " 216     Tudo sobre o Green Card! O webinar acontece ne...\n",
       " 176     A PGM receberá, no dia 11/11, 16 mulheres atua...\n",
       " 152     No dia 13 de novembro, às 19h30, o Instituto d...\n",
       " 145     Oficinas gratuitas de teatro e música têm insc...\n",
       " 120     Dia 09 de Novembro das 13:00 às 17:00h - Venha...\n",
       " 111     inscrições gratuitas: Semana Estadual vai deba...\n",
       " 109     RT @ ThiagoMoraesPB: inscrições gratuitas: Sem...\n",
       " 107     ATENÇÃO!! A Fiocruz PI realizará o I Fórum de ...\n",
       " 92      O enfoque é o sistema atual de solicitação e e...\n",
       " 16      Inscrições gratuitas e limitadas, confirme sua...\n",
       " Name: text, dtype: object,\n",
       " array(['Neutro', 'Positivo', 'Neutro', 'Neutro', 'Neutro', 'Neutro',\n",
       "        'Neutro', 'Neutro', 'Neutro', 'Neutro', 'Neutro', 'Neutro',\n",
       "        'Neutro', 'Neutro', 'Neutro', 'Neutro', 'Positivo', 'Neutro',\n",
       "        'Neutro', 'Neutro', 'Neutro', 'Neutro', 'Neutro', 'Neutro',\n",
       "        'Neutro', 'Neutro', 'Neutro', 'Neutro', 'Positivo', 'Neutro',\n",
       "        'Neutro'], dtype='<U8'))"
      ]
     },
     "execution_count": 113,
     "metadata": {},
     "output_type": "execute_result"
    }
   ],
   "source": [
    "depurate_tweets['tweets'][27], modelo.predict(freq_testes)"
   ]
  },
  {
   "cell_type": "code",
   "execution_count": null,
   "metadata": {},
   "outputs": [],
   "source": []
  }
 ],
 "metadata": {
  "kernelspec": {
   "display_name": "Python 3",
   "language": "python",
   "name": "python3"
  },
  "language_info": {
   "codemirror_mode": {
    "name": "ipython",
    "version": 3
   },
   "file_extension": ".py",
   "mimetype": "text/x-python",
   "name": "python",
   "nbconvert_exporter": "python",
   "pygments_lexer": "ipython3",
   "version": "3.7.4"
  }
 },
 "nbformat": 4,
 "nbformat_minor": 4
}
